{
 "cells": [
  {
   "cell_type": "code",
   "execution_count": 19,
   "metadata": {},
   "outputs": [],
   "source": [
    "manav = {\n",
    "    \"name\": \"Manav\",\n",
    "    \"age\" : 15,\n",
    "    \"gender\" : \"Male\",\n",
    "    \"school\" : \"DESC\",\n",
    "    \"location\" : \"Dubai\",\n",
    "}"
   ]
  },
  {
   "cell_type": "code",
   "execution_count": 20,
   "metadata": {},
   "outputs": [
    {
     "name": "stdout",
     "output_type": "stream",
     "text": [
      "Manav\n",
      "15\n",
      "Male\n",
      "DESC\n",
      "Dubai\n"
     ]
    }
   ],
   "source": [
    "print(manav[\"name\"])\n",
    "print(manav[\"age\"])\n",
    "print(manav[\"gender\"])\n",
    "print(manav[\"school\"])\n",
    "print(manav[\"location\"])"
   ]
  },
  {
   "cell_type": "code",
   "execution_count": 21,
   "metadata": {},
   "outputs": [
    {
     "name": "stdout",
     "output_type": "stream",
     "text": [
      "Manav Codaty\n",
      "15\n",
      "Male\n",
      "Dubai English Speaking College\n",
      "Dubai\n"
     ]
    }
   ],
   "source": [
    "manav[\"school\"] = \"Dubai English Speaking College\"\n",
    "manav[\"name\"] = \"Manav Codaty\"\n",
    "\n",
    "print(manav[\"name\"])\n",
    "print(manav[\"age\"])\n",
    "print(manav[\"gender\"])\n",
    "print(manav[\"school\"])\n",
    "print(manav[\"location\"])\n"
   ]
  },
  {
   "cell_type": "code",
   "execution_count": 22,
   "metadata": {},
   "outputs": [
    {
     "name": "stdout",
     "output_type": "stream",
     "text": [
      "Manav Codaty\n",
      "15\n",
      "Dubai English Speaking College\n",
      "Dubai\n"
     ]
    }
   ],
   "source": [
    "manav.pop(\"gender\")\n",
    "print(manav[\"name\"])\n",
    "print(manav[\"age\"])\n",
    "print(manav[\"school\"])\n",
    "print(manav[\"location\"])"
   ]
  }
 ],
 "metadata": {
  "kernelspec": {
   "display_name": "Python 3",
   "language": "python",
   "name": "python3"
  },
  "language_info": {
   "codemirror_mode": {
    "name": "ipython",
    "version": 3
   },
   "file_extension": ".py",
   "mimetype": "text/x-python",
   "name": "python",
   "nbconvert_exporter": "python",
   "pygments_lexer": "ipython3",
   "version": "3.12.2"
  }
 },
 "nbformat": 4,
 "nbformat_minor": 2
}
