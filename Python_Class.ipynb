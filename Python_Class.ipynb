{
 "cells": [
  {
   "cell_type": "code",
   "execution_count": null,
   "metadata": {},
   "outputs": [],
   "source": [
    "def subtraction():\n",
    "    num1 = 20\n",
    "    num2 = 40\n",
    "    num3 = num2-num1\n",
    "    print(num3)"
   ]
  },
  {
   "cell_type": "code",
   "execution_count": null,
   "metadata": {},
   "outputs": [],
   "source": [
    "def multiplication():\n",
    "    num1 = 20\n",
    "    num2 = 40\n",
    "    num3 = num1*num2\n",
    "    print(num3)\n",
    "\n",
    "\n",
    "multiplication()"
   ]
  },
  {
   "cell_type": "code",
   "execution_count": null,
   "metadata": {},
   "outputs": [],
   "source": [
    "def takename():\n",
    "  print(\"what is your name?\")\n",
    "  name = input()\n",
    "  return name\n",
    "name1 = takename()\n",
    "print(name1)\n"
   ]
  },
  {
   "cell_type": "code",
   "execution_count": null,
   "metadata": {},
   "outputs": [],
   "source": [
    "def someFunction():\n",
    "    var1 = input(\"type in first number\")\n",
    "    var2 = input(\"type in second number\")\n",
    "    result = var1 + var2\n",
    "    return(result)\n",
    "\n",
    "print(someFunction())"
   ]
  },
  {
   "cell_type": "code",
   "execution_count": null,
   "metadata": {},
   "outputs": [],
   "source": [
    "def someFunction(a, b):\n",
    "    result = a + b\n",
    "    num = 2008\n",
    "    return result, num\n",
    "\n",
    "var1 = input(\"input a name\")\n",
    "var2 = input(\"input another name\")\n",
    "transfer = someFunction(var1, var2)  \n",
    "print(transfer) "
   ]
  },
  {
   "cell_type": "code",
   "execution_count": null,
   "metadata": {},
   "outputs": [],
   "source": [
    "def num_machine(a, b):\n",
    "    result = int(a) + int(b)\n",
    "    result2 = result * int(b)\n",
    "    result3 = result2 ** 3\n",
    "    \n",
    "    return result3\n",
    "\n",
    "var1 = input(\"input a name\")\n",
    "var2 = input(\"input another name\")\n",
    "transfer = num_machine(var1, var2)  \n",
    "print(transfer) "
   ]
  },
  {
   "cell_type": "code",
   "execution_count": null,
   "metadata": {},
   "outputs": [],
   "source": [
    "def someFunction(): \n",
    "    def some_function():\n",
    "        print(\"hello world\")\n",
    "    some_function()\n",
    "\n",
    "someFunction()"
   ]
  },
  {
   "cell_type": "code",
   "execution_count": null,
   "metadata": {},
   "outputs": [],
   "source": [
    "def multiply(num1, num2, num3=3, num4=4):\n",
    "    return num1 * num2 * num3 * num4\n",
    "\n",
    "print(multiply(1,3)) \n",
    "print(multiply(1,3,4))\n",
    "print(multiply(1,2,3,4))"
   ]
  },
  {
   "cell_type": "code",
   "execution_count": null,
   "metadata": {},
   "outputs": [],
   "source": [
    "def names(first_name, second_name, last_name):\n",
    "    return first_name + second_name + last_name\n",
    "\n",
    "\n",
    "var1 = input(\"input first name\")\n",
    "var2 = input(\"input second name\")\n",
    "var3 = input(\"input last name\")\n",
    "\n",
    "transfer = names(last_name=var2, second_name=var1, first_name=var3)\n",
    "print(transfer)\n",
    "\n",
    "\n",
    "\n",
    "\n",
    "    "
   ]
  },
  {
   "cell_type": "markdown",
   "metadata": {
    "slideshow": {
     "slide_type": "notes"
    }
   },
   "source": [
    "Homework start"
   ]
  },
  {
   "cell_type": "code",
   "execution_count": null,
   "metadata": {},
   "outputs": [],
   "source": [
    "def is_even(var1):\n",
    "    if num % 2  == 0:\n",
    "        print(\"Your number is even\")\n",
    "    else:\n",
    "        print(\"Your number is odd\")\n",
    "\n",
    "\n",
    "num = int(input(\"input an integer:\"))\n",
    "transfer  = is_even(num)   \n"
   ]
  },
  {
   "cell_type": "code",
   "execution_count": null,
   "metadata": {},
   "outputs": [],
   "source": [
    "def is_positive(var1):\n",
    "\n",
    "    if num > 0:\n",
    "        print(\"Your number is positive\")\n",
    "    else:\n",
    "        print(\"Your number is negative\")\n",
    "\n",
    "\n",
    "num = int(input(\"input an number:\"))\n",
    "transfer  = is_positive(num)"
   ]
  },
  {
   "cell_type": "code",
   "execution_count": null,
   "metadata": {},
   "outputs": [],
   "source": [
    "def max_of_three(x, y, z):\n",
    "    if x > y:\n",
    "        if x > z:\n",
    "            return x\n",
    "        else:\n",
    "            return z\n",
    "    else:\n",
    "        if y > z:\n",
    "            return y\n",
    "        else:\n",
    "            return z\n",
    "        \n",
    "\n",
    "print(max_of_three(1,2,3))\n",
    "        \n"
   ]
  },
  {
   "cell_type": "code",
   "execution_count": null,
   "metadata": {},
   "outputs": [],
   "source": [
    "def grade_converter(var1):\n",
    "    if grade >= 90:\n",
    "        print(\"You got an A\")\n",
    "    elif grade < 90 and grade >= 80:\n",
    "        print(\"You got a B\")\n",
    "    elif grade < 80 and grade >=70:\n",
    "        print(\"You got a C\")\n",
    "    elif grade < 70 and grade >=60:\n",
    "        print(\"You got a D\")\n",
    "    else:\n",
    "        print(\"You got an F\")\n",
    "\n",
    "    \n",
    "\n",
    "grade = int(input(\"Please input your grade:\"))\n",
    "transfer = grade_converter(grade)\n",
    "\n",
    "\n"
   ]
  },
  {
   "cell_type": "code",
   "execution_count": null,
   "metadata": {},
   "outputs": [],
   "source": [
    "def is_triangle(var1, var2, var3):\n",
    "    if a + b > c or a + c > b or c + b > a:\n",
    "        print(\"These number make up a triangle\")\n",
    "    else:\n",
    "        print(\"These numbers do not make up a triangle\")\n",
    "\n",
    "\n",
    "\n",
    "a = int(input(\"Please input first number:\"))\n",
    "b = int(input(\"Please input second number:\"))\n",
    "c = int(input(\"Please input third number:\"))\n",
    "\n",
    "\n",
    "transfer = is_triangle(a,b,c)"
   ]
  },
  {
   "cell_type": "code",
   "execution_count": null,
   "metadata": {},
   "outputs": [],
   "source": [
    "def is_leap_year(var1):\n",
    "    if year % 4 == 0 or year % 400 == 0:\n",
    "        print(\"Your year is a leap year\")\n",
    "    else:\n",
    "        print(\"Your year is not a leap year\")\n",
    "\n",
    "\n",
    "year = int(input(\"Please input year:\"))\n",
    "transfer = is_leap_year(year)"
   ]
  },
  {
   "cell_type": "code",
   "execution_count": null,
   "metadata": {},
   "outputs": [],
   "source": [
    "def is_palindrome(var1):\n",
    "    if len(word) >= 5:\n",
    "        if word[0] == word[4] and word[1] == word[3]:\n",
    "            print(\"Your word is a palindrome\")\n",
    "        else:\n",
    "            print(\"Your word is not a palindrome\")\n",
    "    else:\n",
    "        print(\"Your word is not a palindrome\")\n",
    "\n",
    "\n",
    "word = input(\"Please enter your word\")\n",
    "\n",
    "trasnfer = is_palindrome(word)\n"
   ]
  },
  {
   "cell_type": "markdown",
   "metadata": {},
   "source": [
    "Homework end"
   ]
  },
  {
   "cell_type": "code",
   "execution_count": null,
   "metadata": {},
   "outputs": [],
   "source": [
    "a = input(\"Please input a character\")\n",
    "ord(a)\n",
    "print(bin(ord(a)))\n",
    "print(hex(ord(a)))\n",
    "print(oct(ord(a)))\n"
   ]
  },
  {
   "cell_type": "code",
   "execution_count": null,
   "metadata": {},
   "outputs": [],
   "source": [
    "def factorial(n):\n",
    "    if n == 0 or n == 1:\n",
    "        return 1\n",
    "    else:\n",
    "        return n * factorial(n - 1)\n",
    "\n",
    "\n",
    "num = int(input(\"Please input a number\"))\n",
    "print(factorial(num))\n"
   ]
  },
  {
   "cell_type": "code",
   "execution_count": null,
   "metadata": {},
   "outputs": [],
   "source": [
    "fruits = [\"apple\", \"banana\", \"cherry\"]\n",
    "for x in fruits:\n",
    "  print(x)\n",
    "  if x == \"banana\":\n",
    "    break"
   ]
  },
  {
   "cell_type": "code",
   "execution_count": null,
   "metadata": {},
   "outputs": [],
   "source": [
    "print(sum(range(0,101,1)))"
   ]
  },
  {
   "cell_type": "code",
   "execution_count": null,
   "metadata": {},
   "outputs": [],
   "source": [
    "sum_ = 0\n",
    "for i in range(0,101,1):\n",
    "    sum_ += i\n",
    "\n",
    "print(sum_)"
   ]
  },
  {
   "cell_type": "code",
   "execution_count": null,
   "metadata": {},
   "outputs": [],
   "source": [
    "multiply = 1\n",
    "for i in range(0,41,2):\n",
    "    i *= multiply\n",
    "\n",
    "print(multiply)"
   ]
  },
  {
   "cell_type": "markdown",
   "metadata": {},
   "source": [
    "         *\n",
    "        **\n",
    "       ***\n",
    "      ****  \n",
    "     *****\n",
    "    ****** "
   ]
  },
  {
   "cell_type": "code",
   "execution_count": null,
   "metadata": {},
   "outputs": [],
   "source": [
    "n = int(input(\"Enter number of rows\"))\n",
    "for row in range(1, n+1, 1):\n",
    "\tfor star in range(0,row):\n",
    "\t\tprint(\"*\",end=\"\")\n",
    "\tprint()"
   ]
  },
  {
   "cell_type": "code",
   "execution_count": null,
   "metadata": {},
   "outputs": [],
   "source": [
    "n = int(input(\"Enter number of rows\"))\n",
    "for row in range(1, n+1, 1):\n",
    "\tfor space in range(0,n-row,1):\n",
    "\t\tprint(\" \", end=\"\")\n",
    "\tfor star in range(0,row):\n",
    "\t\tprint(\"*\",end=\"\")\n",
    "\tprint()"
   ]
  },
  {
   "cell_type": "code",
   "execution_count": null,
   "metadata": {},
   "outputs": [],
   "source": [
    "n = int(input(\"Enter number of rows\"))\n",
    "for row in range(1, n+1, 1):\n",
    "\tfor space in range(0,n-row,1):\n",
    "\t\tprint(\"*\", end=\"\")\n",
    "\tfor star in range(0,row):\n",
    "\t\tprint(\" \",end=\"\")\n",
    "\tprint()"
   ]
  },
  {
   "cell_type": "code",
   "execution_count": null,
   "metadata": {},
   "outputs": [],
   "source": [
    "n = int(input(\"Enter number of rows\"))\n",
    "for row in range(1, n+1, 1):\n",
    "\tfor space in range(0,n-row,1):\n",
    "\t\tprint(\"*\", end=\"\")\n",
    "\tfor star in range(0,row):\n",
    "\t\tprint(\" \",end=\"\")\n",
    "\tprint()"
   ]
  },
  {
   "cell_type": "code",
   "execution_count": null,
   "metadata": {},
   "outputs": [],
   "source": [
    "n = int(input(\"Enter number of rows\"))\n",
    "for row in range(1, n+1, 1):\n",
    "\tfor star in range(0,row):\n",
    "\t\tprint(\"-\",end=\"\")\n",
    "\tprint()"
   ]
  },
  {
   "cell_type": "code",
   "execution_count": null,
   "metadata": {},
   "outputs": [],
   "source": [
    "n = int(input(\"Enter number of rows\"))\n",
    "for row in range(1, n+1, 1):\n",
    "\tfor space in range(0,n-row,1):\n",
    "\t\tprint(\" \", end=\"  \")\n",
    "\tfor star in range(0,row):\n",
    "\t\tprint(\"*\",end=\"  \")\n",
    "\tprint()"
   ]
  },
  {
   "cell_type": "code",
   "execution_count": null,
   "metadata": {},
   "outputs": [],
   "source": [
    "def print_stars(n): # n=6\n",
    "   for row in range(1, n+1, 1):  # 1 to 7 -> 1, [2], 3, 4, 5, 6\n",
    "      # row -> 2\n",
    "      for space in range(0,n-row,1): # 4 spaces\n",
    "         print(\" \", end=\"  \")\n",
    "      for star in range(0,(row+(row-1))):  # row = 2, row - 1 -> 1, so row + (row - 1) -> 3, range(0, 3)\n",
    "         print(\"*\",end=\"  \") # only 3 star\n",
    "      print()\n",
    "1\n",
    "\n",
    "def main():\n",
    "   n = int(input(\"Enter number of rows\"))\n",
    "   print_stars(n)\n",
    "\n",
    "\n",
    "main()\n",
    "\t\t"
   ]
  },
  {
   "cell_type": "code",
   "execution_count": null,
   "metadata": {},
   "outputs": [],
   "source": [
    "main_string = input(\"Please input first string\")\n",
    "sub_string = input(\"Please input second string\")\n",
    "\n",
    "main_string2 = main_string.lower()\n",
    "sub_string2 = sub_string.lower()\n",
    "\n",
    "counter = 0\n",
    "\n",
    "for i in main_string2:\n",
    "    if i == sub_string2:\n",
    "        counter = counter + 1\n",
    "print(counter)"
   ]
  },
  {
   "cell_type": "code",
   "execution_count": null,
   "metadata": {},
   "outputs": [],
   "source": [
    "main_string = input(\"Please input first string\")\n",
    "sub_string = input(\"Please input second string\")\n",
    "\n",
    "main_string2 = main_string.lower()\n",
    "sub_string2 = sub_string.lower()\n",
    "\n",
    "s = \"\"\n",
    "for i in main_string2:\n",
    "    if i != sub_string2:\n",
    "        s += i\n",
    "print(s)"
   ]
  },
  {
   "cell_type": "code",
   "execution_count": null,
   "metadata": {},
   "outputs": [],
   "source": [
    "for i in range(2, 22, 2):\n",
    "    print(i)"
   ]
  },
  {
   "cell_type": "code",
   "execution_count": null,
   "metadata": {},
   "outputs": [],
   "source": [
    "def factorial(n):\n",
    "  if n == 0:\n",
    "    return 1\n",
    "  else:\n",
    "    return n * factorial(n - 1)\n",
    "\n",
    "num = int(input(\"Enter a number: \"))\n",
    "print(\"The factorial of\", num, \"is\", factorial(num))\n"
   ]
  },
  {
   "cell_type": "code",
   "execution_count": null,
   "metadata": {},
   "outputs": [],
   "source": [
    "#2 variables \n",
    "#last is 0\n",
    "#second last 1 \n",
    "# for loop for \n",
    "#print last second last+last\n",
    "#temp = last\n",
    "#last = second last + last\n",
    "\n",
    "def generate_fibonacci_sequence(n):\n",
    "    fibonacci_sequence = [0, 1]\n",
    "\n",
    "    for _ in range(2, n):\n",
    "        fibonacci_sequence.append(fibonacci_sequence[-1] + fibonacci_sequence[-2])\n",
    "\n",
    "    return fibonacci_sequence\n",
    "\n",
    "N = int(input(\"Enter the number of Fibonacci numbers to generate: \"))\n",
    "\n",
    "fib_sequence = generate_fibonacci_sequence(N)\n",
    "print(fib_sequence)\n",
    "\n"
   ]
  },
  {
   "cell_type": "code",
   "execution_count": null,
   "metadata": {},
   "outputs": [],
   "source": [
    "def is_prime(num):\n",
    "    if num % 2 == 0:\n",
    "        return num == 2\n",
    "    for i in range(3, int(num**0.5) + 1, 2):\n",
    "        if num % i == 0:\n",
    "            return False\n",
    "    return True\n",
    "\n",
    "start_range = int(input(\"Enter the start of the range: \"))\n",
    "end_range = int(input(\"Enter the end of the range: \"))\n",
    "\n",
    "print(\"Prime numbers in the range {} to {}:\".format(start_range, end_range))\n",
    "for num in range(max(2, start_range), end_range + 1):\n",
    "    if is_prime(num):\n",
    "        print(num)\n"
   ]
  },
  {
   "cell_type": "code",
   "execution_count": null,
   "metadata": {},
   "outputs": [],
   "source": [
    "def is_prime(num):\n",
    "    if num % 2 == 0:\n",
    "        return num == 2\n",
    "    for i in range(int(num**0.5), 2, -2):\n",
    "        if num % i == 0:\n",
    "            return False\n",
    "    return True\n",
    "\n",
    "start_range = int(input(\"Enter the start of the range: \"))\n",
    "end_range = int(input(\"Enter the end of the range: \"))\n",
    "\n",
    "print(\"Prime numbers in the range {} to {}:\".format(start_range, end_range))\n",
    "for num in range(max(2, start_range), end_range + 1):\n",
    "    if is_prime(num):\n",
    "        print(num)"
   ]
  },
  {
   "cell_type": "code",
   "execution_count": null,
   "metadata": {},
   "outputs": [],
   "source": [
    "def multiplication_table(number, table_range):\n",
    "    print(f\"Multiplication table for {number} up to {number} * {table_range}:\")\n",
    "    for i in range(1, table_range + 1):\n",
    "        result = number * i\n",
    "        print(f\"{number} * {i} = {result}\")\n",
    "\n",
    "num = int(input(\"Enter the number for the multiplication table: \"))\n",
    "range_limit = int(input(\"Enter the range (up to which multiple): \"))\n",
    "\n",
    "multiplication_table(num, range_limit)\n"
   ]
  },
  {
   "cell_type": "code",
   "execution_count": null,
   "metadata": {},
   "outputs": [],
   "source": [
    "def reverse_string(input_string):\n",
    "    reversed_str = \"\"\n",
    "    for char in input_string:\n",
    "        reversed_str = char + reversed_str\n",
    "    return reversed_str\n",
    "\n",
    "input_str = input(\"Enter a string: \")\n",
    "reversed_result = reverse_string(input_str)\n",
    "print(\"Reversed string:\", reversed_result)"
   ]
  },
  {
   "cell_type": "code",
   "execution_count": null,
   "metadata": {},
   "outputs": [],
   "source": [
    "a = \"gyhtgyoateqsuopnbg\"\n",
    "a[7:len(a)-2:1]\n"
   ]
  },
  {
   "cell_type": "code",
   "execution_count": null,
   "metadata": {},
   "outputs": [],
   "source": [
    "a = \"gyatgyoateqsuopnbg\"\n",
    "a[len(a)-2:7:-1]"
   ]
  },
  {
   "cell_type": "code",
   "execution_count": null,
   "metadata": {},
   "outputs": [],
   "source": [
    "a = \"manav\"\n",
    "a[0:len(a):2]"
   ]
  },
  {
   "cell_type": "code",
   "execution_count": null,
   "metadata": {},
   "outputs": [],
   "source": [
    "lst = [\n",
    "    [1, 2, 3, 4, 5],\n",
    "    [2, 3, 4, 5, 6], \n",
    "    [3, 4, 5, 6, 7], \n",
    "    [4, 5, 6, 7, 8],\n",
    "    [5, 6, 7, 8, 9],\n",
    "]\n",
    "\n",
    "\n",
    "\n",
    "\n",
    "\n",
    "result = 1\n",
    "\n",
    "def main(lst):\n",
    "    multiply = 1\n",
    "    for i in lst:\n",
    "        multiply = multiply * i\n",
    "    return multiply\n",
    "\n",
    "for i in lst:\n",
    "    result *= main(i)\n",
    "    \n",
    "print(result)\n",
    "    \n",
    "    \n",
    "\n",
    "        \n",
    "        \n",
    "\n",
    "\n",
    "\n",
    "    \n",
    "    "
   ]
  },
  {
   "cell_type": "code",
   "execution_count": null,
   "metadata": {},
   "outputs": [],
   "source": [
    "lst = [1, 2, 3, 4, 5]\n",
    "def main(lst):\n",
    "    multiply = 1\n",
    "    for i in lst:\n",
    "        multiply = multiply * i\n",
    "    return multiply\n",
    "\n",
    "main(lst)    "
   ]
  },
  {
   "cell_type": "code",
   "execution_count": null,
   "metadata": {},
   "outputs": [],
   "source": [
    "def multiply_diagonal_elements_1(array):\n",
    "    product = 1\n",
    "    product2 = 1\n",
    "    n = len(array)-1\n",
    "    for i in range(len(array)):\n",
    "        product *= array[i][i]\n",
    "        product2 *= array[i][(-1)*(i+1)]\n",
    "        #product *= array[i][n-1]\n",
    "        #n = 5-1\n",
    "\n",
    "    return product + product2\n",
    "    \n",
    "\n",
    "\n",
    "\n",
    "array = [\n",
    "    [1, 2, 3, 4, 5],\n",
    "    [2, 3, 4, 5, 6], \n",
    "    [3, 4, 5, 6, 7], \n",
    "    [4, 5, 6, 7, 8],\n",
    "    [5, 6, 7, 8, 9],\n",
    "]\n",
    "\n",
    "diagonal_product = multiply_diagonal_elements_1(array) \n",
    "print(\"Product of diagonal elements:\", diagonal_product)\n"
   ]
  },
  {
   "cell_type": "code",
   "execution_count": null,
   "metadata": {},
   "outputs": [],
   "source": [
    "def replace_negatives_with_positive(lst):\n",
    "    for i in range(len(lst)):\n",
    "        if lst[i] < 0:\n",
    "            lst[i] = lst[i] * -1 \n",
    "\n",
    "# Example array\n",
    "lst = [-5,-3,2,10,-1,11,7,9]\n",
    "\n",
    "print(\"Original array:\", lst)\n",
    "replace_negatives_with_positive(lst)\n",
    "print(\"Array after replacing negatives with positive:\", lst)\n"
   ]
  },
  {
   "cell_type": "code",
   "execution_count": null,
   "metadata": {},
   "outputs": [],
   "source": [
    "lst = [\"manav\",\"Anurag\",\"Maya\",\"Adi\",\"Codaty\",\"Pandey\"]\n",
    "for i in lst:\n",
    "    print(i, lst)\n",
    "    lst.remove(i) # i is value of lst\n",
    "    # code displays value and prints snapshot of lst \n",
    "    # it thens removes the values that it first printed\n",
    "    # Why does it keep skipping values?\n",
    "    # only printing manav, maya, and codaty and not printing anurag?\n",
    "    #\n",
    "    #\n",
    "    #\n",
    "    #\n",
    "    #\n",
    "\n",
    "print(lst)\n"
   ]
  },
  {
   "cell_type": "code",
   "execution_count": null,
   "metadata": {},
   "outputs": [],
   "source": [
    "ls = [\"John\", \"Anurag\", \"Manav\", \"Maya\", \"Adi\", \"Codaty\", \"Pandey\"]\n",
    "\n",
    "message = \"Hello, welcome %s!\"\n",
    "\n",
    "for names in ls:\n",
    "    print(message % names)\n",
    "    \n",
    "    "
   ]
  },
  {
   "cell_type": "code",
   "execution_count": null,
   "metadata": {},
   "outputs": [],
   "source": [
    "ls = [1,1,2,2,3,3,4,4,5,5,6,6,7,7,8,8]\n",
    "\n",
    "print(ls)\n",
    "count = ls.count(9)\n",
    "for _ in range(count):\n",
    "    ls.remove(9)\n",
    "print(ls)"
   ]
  },
  {
   "cell_type": "code",
   "execution_count": null,
   "metadata": {},
   "outputs": [],
   "source": [
    "lst = [1, 2, 3, 4, 5, 6, 7, 8, 9, 10]\n",
    "lst[5:1:-1]\n"
   ]
  },
  {
   "cell_type": "code",
   "execution_count": null,
   "metadata": {},
   "outputs": [],
   "source": [
    "lst = [1, 2, 3, 4, 5, 6, 7, 8, 9, 10]\n",
    "lst[2:6]"
   ]
  },
  {
   "cell_type": "code",
   "execution_count": null,
   "metadata": {},
   "outputs": [],
   "source": [
    "lst = [1, 2, 3, 4, 5, 6, 7, 8, 9, 10]\n",
    "lst[::-1]"
   ]
  },
  {
   "cell_type": "markdown",
   "metadata": {},
   "source": [
    "\n",
    "generate list of 0-20\n",
    "generate another list were all even numbers are in ascending order \n",
    "generate another list from the parent list were all odd numbers are in descending order\n",
    "CANNOT USE LOOPS\n",
    "Use splicing to make the lists except the list of 0-20\n"
   ]
  },
  {
   "cell_type": "code",
   "execution_count": null,
   "metadata": {},
   "outputs": [],
   "source": [
    "\n",
    "numbers = list(range(21))\n",
    "evens = numbers[::2]\n",
    "odds = numbers[19::-2]\n",
    "\n",
    "final_list = evens + odds\n",
    "\n",
    "\n",
    "\n",
    "print(numbers)\n",
    "print(evens)\n",
    "print(odds)\n",
    "print(final_list)\n"
   ]
  },
  {
   "cell_type": "code",
   "execution_count": null,
   "metadata": {},
   "outputs": [],
   "source": [
    "lst = [\"Anurag\", \"Manav\", \"Farhan\", \"Manav\", \"Ayushi\", \"Shoeb\"]\n",
    "\n",
    "\n",
    "while \"Manav\" in lst:\n",
    "    lst.remove(\"Manav\")\n",
    "\n",
    "print(lst)"
   ]
  },
  {
   "cell_type": "code",
   "execution_count": null,
   "metadata": {},
   "outputs": [],
   "source": [
    "lst = [\"Anurag\", \"Manav\", \"Farhan\", \"Ayushi\", \"Shoeb\"]\n",
    "\n",
    "while True:\n",
    "    lst.pop()\n",
    "    if len(lst) == 0:\n",
    "        break\n",
    "    \n",
    "print(lst)"
   ]
  },
  {
   "cell_type": "code",
   "execution_count": 35,
   "metadata": {},
   "outputs": [
    {
     "data": {
      "text/plain": [
       "[[44, 37, 68, 34, 46],\n",
       " [100, 40, 76, 72, 50],\n",
       " [65, 22, 64, 7, 95],\n",
       " [8, 74, 26, 21, 30],\n",
       " [84, 55, 54, 58, 13]]"
      ]
     },
     "execution_count": 35,
     "metadata": {},
     "output_type": "execute_result"
    }
   ],
   "source": [
    "import random\n",
    "\n",
    "def get_2d_list():\n",
    "    lst = [[random.randint(1, 100) for x in range(5)] for x in range(5)]\n",
    "    return lst\n",
    "\n",
    "lst = get_2d_list()\n",
    "lst"
   ]
  },
  {
   "cell_type": "code",
   "execution_count": 32,
   "metadata": {},
   "outputs": [
    {
     "data": {
      "text/plain": [
       "[[20, 17, 51, 52, 28],\n",
       " [10, 83, 31, 46, 46],\n",
       " [88, 45, 30, 4, 49],\n",
       " [77, 100, 48, 76, 2],\n",
       " [66, 94, 37, 15, 7]]"
      ]
     },
     "execution_count": 32,
     "metadata": {},
     "output_type": "execute_result"
    }
   ],
   "source": [
    "lst[1][2] = random.randint(1, 100)\n",
    "lst"
   ]
  },
  {
   "cell_type": "code",
   "execution_count": 50,
   "metadata": {},
   "outputs": [
    {
     "name": "stdout",
     "output_type": "stream",
     "text": [
      "Original list:\n",
      "[88, 30, 98, 19, 25]\n",
      "[11, 83, 60, 84, 57]\n",
      "[89, 67, 90, 100, 30]\n",
      "[31, 53, 40, 54, 83]\n",
      "[65, 49, 17, 62, 83]\n",
      "\n",
      "Multiplied list:\n",
      "[616, 60, 196, 95, 225]\n",
      "[22, 498, 600, 504, 342]\n",
      "[890, 402, 630, 700, 120]\n",
      "[93, 53, 200, 324, 415]\n",
      "[65, 98, 68, 620, 498]\n"
     ]
    }
   ],
   "source": [
    "import random\n",
    "\n",
    "def get_2d_list():\n",
    "    lst = [[random.randint(1, 100) for _ in range(5)] for _ in range(5)]\n",
    "    return lst\n",
    "\n",
    "def multiply_2d_list(lst):\n",
    "    multiplied_lst = []\n",
    "    for i in lst:\n",
    "        new_sublist = []\n",
    "        for item in i:\n",
    "            new_sublist.append(item * random.randint(1, 100))\n",
    "        multiplied_lst.append(new_sublist)\n",
    "    return multiplied_lst\n",
    "\n",
    "\n",
    "lst = get_2d_list()\n",
    "multiplied_lst = multiply_2d_list(lst)\n",
    "\n",
    "\n",
    "print(\"Original list:\")\n",
    "for row in lst:\n",
    "    print(row)\n",
    "\n",
    "print(\"\\nMultiplied list:\")\n",
    "for row in multiplied_lst:\n",
    "    print(row)\n"
   ]
  },
  {
   "cell_type": "code",
   "execution_count": 36,
   "metadata": {},
   "outputs": [
    {
     "name": "stdout",
     "output_type": "stream",
     "text": [
      "[[1, 2, 3], [4, 5, 6], [7, 8, 9], [1, 2, 3], [9, 7, 8], [4, 5, 6]]\n"
     ]
    }
   ],
   "source": [
    "lst = [[1,2,3],\n",
    "       [4,5,6],\n",
    "       [7,8,9]]\n",
    "lst_2 = [[1,2,3],\n",
    "         [9,7,8],\n",
    "         [4,5,6]]\n",
    "final  = lst + lst_2\n",
    "print(final)\n",
    "\n"
   ]
  },
  {
   "cell_type": "markdown",
   "metadata": {},
   "source": [
    "number 1: change printing format of 2d list from matrix to column and row format\n",
    "\n",
    "number 2: flatten list"
   ]
  },
  {
   "cell_type": "code",
   "execution_count": 52,
   "metadata": {},
   "outputs": [
    {
     "name": "stdout",
     "output_type": "stream",
     "text": [
      "[1, 2, 3, 4, 5, 6, 7, 8, 9]\n"
     ]
    }
   ],
   "source": [
    "lst = [[1,2,3],[4,5,6],[7,8,9]]\n",
    "\n",
    "def flatten_list(lst):\n",
    "    flattened = []\n",
    "    for i in lst:\n",
    "        for j in i:\n",
    "            flattened.append(j)\n",
    "    print(flattened)\n",
    "    \n",
    "flatten_list(lst)"
   ]
  }
 ],
 "metadata": {
  "kernelspec": {
   "display_name": "Python 3",
   "language": "python",
   "name": "python3"
  },
  "language_info": {
   "codemirror_mode": {
    "name": "ipython",
    "version": 3
   },
   "file_extension": ".py",
   "mimetype": "text/x-python",
   "name": "python",
   "nbconvert_exporter": "python",
   "pygments_lexer": "ipython3",
   "version": "3.12.2"
  },
  "orig_nbformat": 4
 },
 "nbformat": 4,
 "nbformat_minor": 2
}
